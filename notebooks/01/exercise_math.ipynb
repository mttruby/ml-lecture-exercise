{
 "cells": [
  {
   "cell_type": "markdown",
   "metadata": {},
   "source": [
    "<img style=\"float: right;\" src=\"../../assets/htwlogo.svg\">\n",
    "\n",
    "# Exercise: test your math skills in python\n",
    "\n",
    "Let's test your math and numpy skills. \n",
    "\n",
    "**Author**: _Erik Rodner_<br>"
   ]
  },
  {
   "cell_type": "code",
   "execution_count": null,
   "metadata": {},
   "outputs": [],
   "source": [
    "import numpy as np"
   ]
  },
  {
   "cell_type": "markdown",
   "metadata": {},
   "source": [
    "### Linear algebra review\n",
    "\n",
    "Show with single numpy examples that the following holds:\n",
    "1. Matrix multiplication is not commutable, i.e. there are $\\mathbf{A}$ and $\\mathbf{B}$, such that $\\mathbf{A} \\cdot \\mathbf{B} \\neq \\mathbf{B} \\cdot \\mathbf{A}$\n",
    "2. Not all matrices are invertable"
   ]
  },
  {
   "cell_type": "code",
   "execution_count": null,
   "metadata": {},
   "outputs": [],
   "source": []
  },
  {
   "cell_type": "markdown",
   "metadata": {},
   "source": [
    "Calculate for some chosen vector $\\mathbf{x} \\in \\mathrm{R}^2$ and matrix $\\mathbf{A} \\in \\mathrm{R}^{2 \\times 2}$ the following:\n",
    "\n",
    "1. Matrix-vector multiplication: $\\mathbf{A} \\cdot \\mathbf{x}$\n",
    "2. Bilinear product: $\\mathbf{x}^T \\mathbf{A} \\cdot \\mathbf{x}$\n",
    "3. Scalar product: $\\mathbf{x}^T \\mathbf{x}$\n",
    "4. Norm of the vector: $\\sqrt {\\mathbf{x}^T \\mathbf{x}}$"
   ]
  },
  {
   "cell_type": "code",
   "execution_count": null,
   "metadata": {},
   "outputs": [],
   "source": []
  },
  {
   "cell_type": "markdown",
   "metadata": {},
   "source": [
    "### Probabilities and empirical estimates: approximating $\\pi$\n",
    "\n",
    "In the following, we want to calculate $\\pi$, which might sound strange at the beginning, but is a perfect example for understanding the concepts of expectation, empirical estimate and Monte Carlo sampling.\n",
    "\n",
    "Assume you sample a uniformly random point in the rectangle $[0,1] \\times [0,1]$. What is the probability of the point having a distance equal or less than 1 to the origin? How can we compute this probability with an empirical estimate (e.g. drawing a lot of random points and counting how often the distance is equal or less than 1)? Assume we have no idea what the real value of Pi is, how can we approximate it?\n",
    "\n",
    "Bonus: try to squeeze everything in a few lines (yes, a one-liner is possible)"
   ]
  },
  {
   "cell_type": "code",
   "execution_count": null,
   "metadata": {},
   "outputs": [],
   "source": [
    "# Hint: use np.random.rand for uniformly distributed values between 0 and 1"
   ]
  },
  {
   "cell_type": "markdown",
   "metadata": {},
   "source": [
    "### The birthday paradoxon\n",
    "\n",
    "What is the probability that two people in a room of N people celebrate their birthday on the same day of the year (irrespective of the year of birth)? This probability is suprisingly high and is referred to as *birthday paradoxon*. Your task is to calculate the probability empirically. Of course, we can simply use random numbers from 0 to 365 (assuming we are not in a gap year) in the code to represent birthdays."
   ]
  },
  {
   "cell_type": "code",
   "execution_count": null,
   "metadata": {},
   "outputs": [],
   "source": [
    "# Hint: The python function set() can be quite useful"
   ]
  }
 ],
 "metadata": {
  "kernelspec": {
   "display_name": "ml-exercise-pip",
   "language": "python",
   "name": "python3"
  },
  "language_info": {
   "codemirror_mode": {
    "name": "ipython",
    "version": 3
   },
   "file_extension": ".py",
   "mimetype": "text/x-python",
   "name": "python",
   "nbconvert_exporter": "python",
   "pygments_lexer": "ipython3",
   "version": "3.9.20"
  }
 },
 "nbformat": 4,
 "nbformat_minor": 2
}
